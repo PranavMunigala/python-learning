{
 "cells": [
  {
   "cell_type": "code",
   "execution_count": 1,
   "metadata": {},
   "outputs": [
    {
     "name": "stdout",
     "output_type": "stream",
     "text": [
      "Hello World!\n"
     ]
    }
   ],
   "source": [
    "print(\"Hello World!\")"
   ]
  },
  {
   "cell_type": "code",
   "execution_count": 2,
   "metadata": {},
   "outputs": [],
   "source": [
    "# !pip install SQLAlchemy\n",
    "# !pip install ipython-sql\n"
   ]
  },
  {
   "cell_type": "code",
   "execution_count": 3,
   "metadata": {},
   "outputs": [],
   "source": [
    "# !pip install --upgrade pandas"
   ]
  },
  {
   "cell_type": "code",
   "execution_count": 4,
   "metadata": {},
   "outputs": [],
   "source": [
    "import pandas as pd\n",
    "import sqlite3,sqlalchemy\n",
    "from typing import Optional,List\n",
    "from sqlalchemy import ForeignKey,UniqueConstraint\n",
    "from sqlalchemy import Integer, Float, DateTime,Boolean\n",
    "from sqlalchemy import String\n",
    "from sqlalchemy.orm import Mapped\n",
    "from sqlalchemy.orm import mapped_column\n",
    "from sqlalchemy.orm import DeclarativeBase\n",
    "from sqlalchemy.orm import relationship\n"
   ]
  },
  {
   "cell_type": "code",
   "execution_count": 5,
   "metadata": {},
   "outputs": [
    {
     "data": {
      "text/plain": [
       "('2.0.3', '3.36.0', '2.0.29')"
      ]
     },
     "execution_count": 5,
     "metadata": {},
     "output_type": "execute_result"
    }
   ],
   "source": [
    "pd.__version__, sqlite3.sqlite_version,sqlalchemy.__version__"
   ]
  },
  {
   "cell_type": "code",
   "execution_count": 1,
   "metadata": {},
   "outputs": [
    {
     "name": "stderr",
     "output_type": "stream",
     "text": [
      "'wget' is not recognized as an internal or external command,\n",
      "operable program or batch file.\n"
     ]
    }
   ],
   "source": [
    "!wget https://laxman225.github.io/python-learning/nbabasketballdb.sqlite3"
   ]
  },
  {
   "cell_type": "code",
   "execution_count": 6,
   "metadata": {},
   "outputs": [],
   "source": [
    "%load_ext sql"
   ]
  },
  {
   "cell_type": "code",
   "execution_count": 8,
   "metadata": {},
   "outputs": [],
   "source": [
    "\n",
    "%sql sqlite:///nbabasketballdb.sqlite3"
   ]
  },
  {
   "cell_type": "code",
   "execution_count": 10,
   "metadata": {},
   "outputs": [],
   "source": [
    "# %sql select count(*) from player_career_stats\n",
    "# %sql select count(*) from teams\n",
    "# %sql select count(*) from players\n",
    "# %sql select * from players where full_name = 'LeBron James'\n",
    "# %sql select * from teams where abbreviation = 'LAL'\n",
    "# %sql select * from player_career_stats where id = 2544\n",
    "# %sql select * from player_career_stats where id in (select id from players where full_name = 'LeBron James')\n",
    "# %sql select count(*),team,id from player_career_stats group by id ,team\n",
    "# %sql select * from player_career_stats where team='LAL'\n",
    "# %sql select sum(pts) totpts,count(*) totseasons,id,team,sum(pts)/count(*) avgpoints_per_season from player_career_stats group by id ,team\n"
   ]
  },
  {
   "cell_type": "code",
   "execution_count": 55,
   "metadata": {},
   "outputs": [],
   "source": [
    "mhteam = pd.DataFrame([[999999999,'Morris Hills High School','MHI','Knights','Randolph','NJ',1989]],columns=['id', 'name', 'abbreviation', 'nickname', 'city', 'state', 'year_founded'])\n",
    "mhplayers = pd.DataFrame([\n",
    "        [999001,'Pranav Munigala','Pranav','Munigala',True],\n",
    "        [999002,'Eeshan Bhansali','Eeshan','Bhansali',True],\n",
    "        [999003,'Siddhant Bhansali','Siddhant','Bhansali',True],\n",
    "        [999004,'Raj Shah','Raj','Shah',True]\n",
    "\n",
    "    ],\n",
    "    columns=['id','full_name','first_name','last_name','is_active'])"
   ]
  },
  {
   "cell_type": "code",
   "execution_count": 56,
   "metadata": {},
   "outputs": [
    {
     "name": "stdout",
     "output_type": "stream",
     "text": [
      "2024-03-25 11:22:07,189 INFO sqlalchemy.engine.Engine BEGIN (implicit)\n",
      "2024-03-25 11:22:07,191 INFO sqlalchemy.engine.Engine PRAGMA main.table_info(\"players\")\n",
      "2024-03-25 11:22:07,193 INFO sqlalchemy.engine.Engine [raw sql] ()\n",
      "2024-03-25 11:22:07,196 INFO sqlalchemy.engine.Engine INSERT INTO players (id, full_name, first_name, last_name, is_active) VALUES (?, ?, ?, ?, ?)\n",
      "2024-03-25 11:22:07,196 INFO sqlalchemy.engine.Engine [generated in 0.00140s] [(999002, 'Eeshan Bhansali', 'Eeshan', 'Bhansali', 1), (999003, 'Siddhant Bhansali', 'Siddhant', 'Bhansali', 1), (999004, 'Raj Shah', 'Raj', 'Shah', 1)]\n",
      "2024-03-25 11:22:07,201 INFO sqlalchemy.engine.Engine COMMIT\n"
     ]
    },
    {
     "data": {
      "text/plain": [
       "3"
      ]
     },
     "execution_count": 56,
     "metadata": {},
     "output_type": "execute_result"
    }
   ],
   "source": [
    "# mhteam.to_sql('teams', engine,if_exists='append',index=False)\n",
    "# mhplayers.to_sql('players', engine,if_exists='append',index=False)"
   ]
  },
  {
   "cell_type": "code",
   "execution_count": 11,
   "metadata": {},
   "outputs": [
    {
     "name": "stdout",
     "output_type": "stream",
     "text": [
      " * sqlite:///nbabasketballdb.sqlite3\n",
      "Done.\n"
     ]
    },
    {
     "data": {
      "text/html": [
       "<table>\n",
       "    <thead>\n",
       "        <tr>\n",
       "            <th>id</th>\n",
       "            <th>full_name</th>\n",
       "            <th>first_name</th>\n",
       "            <th>last_name</th>\n",
       "            <th>is_active</th>\n",
       "        </tr>\n",
       "    </thead>\n",
       "    <tbody>\n",
       "        <tr>\n",
       "            <td>999001</td>\n",
       "            <td>Pranav Munigala</td>\n",
       "            <td>Pranav</td>\n",
       "            <td>Munigala</td>\n",
       "            <td>1</td>\n",
       "        </tr>\n",
       "        <tr>\n",
       "            <td>999002</td>\n",
       "            <td>Eeshan Bhansali</td>\n",
       "            <td>Eeshan</td>\n",
       "            <td>Bhansali</td>\n",
       "            <td>1</td>\n",
       "        </tr>\n",
       "        <tr>\n",
       "            <td>999003</td>\n",
       "            <td>Siddhant Bhansali</td>\n",
       "            <td>Siddhant</td>\n",
       "            <td>Bhansali</td>\n",
       "            <td>1</td>\n",
       "        </tr>\n",
       "        <tr>\n",
       "            <td>999004</td>\n",
       "            <td>Raj Shah</td>\n",
       "            <td>Raj</td>\n",
       "            <td>Shah</td>\n",
       "            <td>1</td>\n",
       "        </tr>\n",
       "    </tbody>\n",
       "</table>"
      ],
      "text/plain": [
       "[(999001, 'Pranav Munigala', 'Pranav', 'Munigala', 1),\n",
       " (999002, 'Eeshan Bhansali', 'Eeshan', 'Bhansali', 1),\n",
       " (999003, 'Siddhant Bhansali', 'Siddhant', 'Bhansali', 1),\n",
       " (999004, 'Raj Shah', 'Raj', 'Shah', 1)]"
      ]
     },
     "execution_count": 11,
     "metadata": {},
     "output_type": "execute_result"
    }
   ],
   "source": [
    "%sql select * from players where id >= 999001 limit 4\n",
    "# %sql select * from teams where id = 999999999"
   ]
  },
  {
   "cell_type": "code",
   "execution_count": 18,
   "metadata": {},
   "outputs": [
    {
     "name": "stdout",
     "output_type": "stream",
     "text": [
      " * sqlite:///nbabasketballdb.sqlite3\n",
      "Done.\n"
     ]
    },
    {
     "data": {
      "text/html": [
       "<table>\n",
       "    <thead>\n",
       "        <tr>\n",
       "            <th>id</th>\n",
       "            <th>name</th>\n",
       "            <th>abbreviation</th>\n",
       "            <th>nickname</th>\n",
       "            <th>city</th>\n",
       "            <th>state</th>\n",
       "            <th>year_founded</th>\n",
       "        </tr>\n",
       "    </thead>\n",
       "    <tbody>\n",
       "    </tbody>\n",
       "</table>"
      ],
      "text/plain": [
       "[]"
      ]
     },
     "execution_count": 18,
     "metadata": {},
     "output_type": "execute_result"
    }
   ],
   "source": [
    "# %sql insert into teams values (0,'TEST High School','TTT','Test','Randolph','NJ',1989)\n",
    "# %sql update teams set name = 'Dream High School' where id = 0\n",
    "# %sql delete from teams where id = 0\n",
    "%sql select * from teams where id = 0"
   ]
  },
  {
   "cell_type": "code",
   "execution_count": null,
   "metadata": {},
   "outputs": [],
   "source": []
  }
 ],
 "metadata": {
  "kernelspec": {
   "display_name": "hw2",
   "language": "python",
   "name": "python3"
  },
  "language_info": {
   "codemirror_mode": {
    "name": "ipython",
    "version": 3
   },
   "file_extension": ".py",
   "mimetype": "text/x-python",
   "name": "python",
   "nbconvert_exporter": "python",
   "pygments_lexer": "ipython3",
   "version": "3.8.10"
  }
 },
 "nbformat": 4,
 "nbformat_minor": 2
}

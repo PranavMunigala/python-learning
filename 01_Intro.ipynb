{
  "nbformat": 4,
  "nbformat_minor": 0,
  "metadata": {
    "colab": {
      "provenance": [],
      "authorship_tag": "ABX9TyPOezEoBBaFaiM3Zz5zDlEs",
      "include_colab_link": true
    },
    "kernelspec": {
      "name": "python3",
      "display_name": "Python 3"
    },
    "language_info": {
      "name": "python"
    }
  },
  "cells": [
    {
      "cell_type": "markdown",
      "metadata": {
        "id": "view-in-github",
        "colab_type": "text"
      },
      "source": [
        "<a href=\"https://colab.research.google.com/github/laxman225/python-learning/blob/main/01_Intro.ipynb\" target=\"_parent\"><img src=\"https://colab.research.google.com/assets/colab-badge.svg\" alt=\"Open In Colab\"/></a>"
      ]
    },
    {
      "cell_type": "markdown",
      "source": [
        "# What is Programming?\n",
        "\n"
      ],
      "metadata": {
        "id": "zM4wQyVmeypN"
      }
    },
    {
      "cell_type": "markdown",
      "source": [
        "## Let us discus LOGIC for Prime Number and write Instructions\n",
        "\n",
        "\n",
        "1.   List item\n",
        "2.   List item\n",
        "\n"
      ],
      "metadata": {
        "id": "qPFEd4ApfCbS"
      }
    },
    {
      "cell_type": "markdown",
      "source": [
        "# Python"
      ],
      "metadata": {
        "id": "QP051-3hfeWB"
      }
    },
    {
      "cell_type": "markdown",
      "source": [
        "## What & Why"
      ],
      "metadata": {
        "id": "k_uZqYIAg0dA"
      }
    },
    {
      "cell_type": "markdown",
      "source": [
        "## Let us learn some basics"
      ],
      "metadata": {
        "id": "ju_ABjxpgK4N"
      }
    },
    {
      "cell_type": "code",
      "source": [
        "# Types\n",
        "name='Apple'\n",
        "buyPrice=170.5\n",
        "qty=100\n"
      ],
      "metadata": {
        "id": "g0zJ9RI0gjW7"
      },
      "execution_count": 5,
      "outputs": []
    },
    {
      "cell_type": "code",
      "source": [
        "print(name)\n",
        "print(f'Bought {qty} stock of {name} @{buyPrice} ')"
      ],
      "metadata": {
        "colab": {
          "base_uri": "https://localhost:8080/"
        },
        "id": "fQ3J7P1SfFv4",
        "outputId": "beb45c55-5da7-4f36-bf3d-474fa1fc7eaf"
      },
      "execution_count": 6,
      "outputs": [
        {
          "output_type": "stream",
          "name": "stdout",
          "text": [
            "Apple\n",
            "Bought 100 stock of Apple @170.5 \n"
          ]
        }
      ]
    },
    {
      "cell_type": "code",
      "source": [
        "# Operators\n",
        "\n",
        "totalCost = qty * buyPrice\n",
        "\n",
        "print(f'Total purchase price {totalCost}')"
      ],
      "metadata": {
        "colab": {
          "base_uri": "https://localhost:8080/"
        },
        "id": "s-K2EIBSi-Hp",
        "outputId": "ebe1530b-88c1-4b42-eb73-462cd0a01b12"
      },
      "execution_count": 7,
      "outputs": [
        {
          "output_type": "stream",
          "name": "stdout",
          "text": [
            "Total purchase price 17050.0\n"
          ]
        }
      ]
    },
    {
      "cell_type": "code",
      "source": [
        "currentPrice=160.25\n"
      ],
      "metadata": {
        "id": "cygnV8F7nFAx"
      },
      "execution_count": 10,
      "outputs": []
    },
    {
      "cell_type": "code",
      "source": [
        "# Condition if/else\n",
        "if(currentPrice>buyPrice):\n",
        "  isProfitMade=True\n",
        "else:\n",
        "  isProfitMade=False\n",
        "\n",
        "print(f'Did you make Profit on Apple? - {isProfitMade}')\n",
        "\n",
        "\n"
      ],
      "metadata": {
        "colab": {
          "base_uri": "https://localhost:8080/"
        },
        "id": "cPBpbyqJjlXn",
        "outputId": "e3503e97-5c87-437f-a90b-0b8445cdba2e"
      },
      "execution_count": 11,
      "outputs": [
        {
          "output_type": "stream",
          "name": "stdout",
          "text": [
            "Did you make Profit on Apple? - False\n"
          ]
        }
      ]
    },
    {
      "cell_type": "code",
      "source": [
        "# complex types\n",
        "thisWeekPricesList = [160,165,185,200,210]\n",
        "print(f'Monday Price is {thisWeekPricesList[0]}')\n",
        "print(f'Friday Price is {thisWeekPricesList[4]}')\n",
        "print(f'Friday Price is {thisWeekPricesList[-1]}')"
      ],
      "metadata": {
        "colab": {
          "base_uri": "https://localhost:8080/"
        },
        "id": "pcUVO6D4pFwj",
        "outputId": "4ae7843b-950e-4a23-9c00-68900e5a3ab2"
      },
      "execution_count": 28,
      "outputs": [
        {
          "output_type": "stream",
          "name": "stdout",
          "text": [
            "Monday Price is 160\n",
            "Friday Price is 210\n",
            "Friday Price is 210\n"
          ]
        }
      ]
    },
    {
      "cell_type": "code",
      "source": [
        "thisWeekPricesDict = {'MON':160,'TUE':165,'WED':185,'THU':200,'FRI':210}\n",
        "\n",
        "print(f\"Monday Price is {thisWeekPricesDict['MON']}\")\n",
        "print(f\"Friday Price is {thisWeekPricesDict['FRI']}\")\n"
      ],
      "metadata": {
        "colab": {
          "base_uri": "https://localhost:8080/"
        },
        "id": "brZQrfKfq2qi",
        "outputId": "ee711e7a-c46e-4820-bf7c-54e17057351b"
      },
      "execution_count": 29,
      "outputs": [
        {
          "output_type": "stream",
          "name": "stdout",
          "text": [
            "Monday Price is 160\n",
            "Friday Price is 210\n"
          ]
        }
      ]
    },
    {
      "cell_type": "code",
      "source": [
        "stopLossPrice = buyPrice*90/100\n",
        "profitTakePrice = buyPrice*110/100\n",
        "\n",
        "print(f'Sell if price of Apple Stock is less than {stopLossPrice} OR greater than {profitTakePrice}')"
      ],
      "metadata": {
        "colab": {
          "base_uri": "https://localhost:8080/"
        },
        "id": "bs_kI7NFoSR1",
        "outputId": "0d7594a3-4e7d-4551-a748-97fc841ed206"
      },
      "execution_count": 35,
      "outputs": [
        {
          "output_type": "stream",
          "name": "stdout",
          "text": [
            "Sell if price of Apple Stock is less than 153.45 OR greater than 187.55\n"
          ]
        }
      ]
    },
    {
      "cell_type": "code",
      "source": [
        "mondaysPrice=thisWeekPricesDict['MON']\n",
        "if mondaysPrice<stopLossPrice or mondaysPrice > profitTakePrice:\n",
        "  print('SELL')\n",
        "else:\n",
        "  print('KEEP')"
      ],
      "metadata": {
        "colab": {
          "base_uri": "https://localhost:8080/"
        },
        "id": "8J0Hf6Ubo3OT",
        "outputId": "6c953c75-17d2-41d3-edc2-5e6b9f1ba87a"
      },
      "execution_count": 31,
      "outputs": [
        {
          "output_type": "stream",
          "name": "stdout",
          "text": [
            "KEEP\n"
          ]
        }
      ]
    },
    {
      "cell_type": "code",
      "source": [
        "# Loops\n",
        "for price in thisWeekPricesList:\n",
        "  if price<stopLossPrice or price > profitTakePrice:\n",
        "    print(f'{price} SELL')\n",
        "  else:\n",
        "    print(f'{price} KEEP')"
      ],
      "metadata": {
        "colab": {
          "base_uri": "https://localhost:8080/"
        },
        "id": "DrUWHJ_DsrNV",
        "outputId": "31a293fa-eec3-4d83-d7e0-cfd4ebece15a"
      },
      "execution_count": 34,
      "outputs": [
        {
          "output_type": "stream",
          "name": "stdout",
          "text": [
            "160 KEEP\n",
            "165 KEEP\n",
            "185 KEEP\n",
            "200 SELL\n",
            "210 SELL\n"
          ]
        }
      ]
    },
    {
      "cell_type": "code",
      "source": [
        "for day in thisWeekPricesDict:\n",
        "  if thisWeekPricesDict[day]<stopLossPrice or thisWeekPricesDict[day] > profitTakePrice:\n",
        "    print(f'{thisWeekPricesDict[day]} SELL')\n",
        "  else:\n",
        "    print(f'{thisWeekPricesDict[day]} KEEP')"
      ],
      "metadata": {
        "colab": {
          "base_uri": "https://localhost:8080/"
        },
        "id": "Uypy-YSOtVIQ",
        "outputId": "b1380bd2-c0c7-4535-dac9-bedf2e56d98e"
      },
      "execution_count": 47,
      "outputs": [
        {
          "output_type": "stream",
          "name": "stdout",
          "text": [
            "160 KEEP\n",
            "165 KEEP\n",
            "185 KEEP\n",
            "200 SELL\n",
            "210 SELL\n"
          ]
        }
      ]
    },
    {
      "cell_type": "code",
      "source": [
        "# functions - Takes an inputs and returns an output\n",
        "print(f'The number of prices {len(thisWeekPricesList)}')\n"
      ],
      "metadata": {
        "colab": {
          "base_uri": "https://localhost:8080/"
        },
        "id": "MbIj-5Wjt9PA",
        "outputId": "c68eb092-5f6e-4661-c7d0-fc6f6a644d69"
      },
      "execution_count": 46,
      "outputs": [
        {
          "output_type": "stream",
          "name": "stdout",
          "text": [
            "The number of prices 5\n"
          ]
        },
        {
          "output_type": "execute_result",
          "data": {
            "text/plain": [
              "int"
            ]
          },
          "metadata": {},
          "execution_count": 46
        }
      ]
    },
    {
      "cell_type": "code",
      "source": [
        "def getChangePercent(buyPrice,currentPrice):\n",
        "  return (currentPrice-buyPrice)*100/buyPrice"
      ],
      "metadata": {
        "id": "1b4zeos0vDP9"
      },
      "execution_count": 49,
      "outputs": []
    },
    {
      "cell_type": "code",
      "source": [
        "getChangePercent(buyPrice,200)"
      ],
      "metadata": {
        "colab": {
          "base_uri": "https://localhost:8080/"
        },
        "id": "OQJFom81wTAi",
        "outputId": "ac153f52-9c47-43bb-8f66-1ccac955a2eb"
      },
      "execution_count": 50,
      "outputs": [
        {
          "output_type": "execute_result",
          "data": {
            "text/plain": [
              "17.302052785923753"
            ]
          },
          "metadata": {},
          "execution_count": 50
        }
      ]
    },
    {
      "cell_type": "code",
      "source": [
        "getChangePercent(buyPrice,thisWeekPricesDict['TUE'])"
      ],
      "metadata": {
        "colab": {
          "base_uri": "https://localhost:8080/"
        },
        "id": "Mtt2ILYCxYrk",
        "outputId": "a22a5682-cf4c-4999-9667-d8be4a6c434f"
      },
      "execution_count": 51,
      "outputs": [
        {
          "output_type": "execute_result",
          "data": {
            "text/plain": [
              "-3.225806451612903"
            ]
          },
          "metadata": {},
          "execution_count": 51
        }
      ]
    },
    {
      "cell_type": "code",
      "source": [
        "round(getChangePercent(buyPrice,thisWeekPricesDict['TUE']),2)"
      ],
      "metadata": {
        "colab": {
          "base_uri": "https://localhost:8080/"
        },
        "id": "bIABm2Yyxl5-",
        "outputId": "624d2277-6ae7-4a30-bd97-670716e8a29e"
      },
      "execution_count": 54,
      "outputs": [
        {
          "output_type": "execute_result",
          "data": {
            "text/plain": [
              "-3.23"
            ]
          },
          "metadata": {},
          "execution_count": 54
        }
      ]
    },
    {
      "cell_type": "code",
      "source": [
        "# Classes\n",
        "class Trade:\n",
        "\n",
        "  def __init__(self,name,qty,buyPrice):\n",
        "    self.symbol=name\n",
        "    self.qtyPurchased=qty\n",
        "    self.purchasePrice=buyPrice\n"
      ],
      "metadata": {
        "id": "ntzXsF8KxpqF"
      },
      "execution_count": 58,
      "outputs": []
    },
    {
      "cell_type": "code",
      "source": [
        "aapl = Trade('Apple',100,175)"
      ],
      "metadata": {
        "id": "FuIdbEq4yJHt"
      },
      "execution_count": 59,
      "outputs": []
    },
    {
      "cell_type": "code",
      "source": [
        "print(f'Bought {aapl.qtyPurchased} stock of {aapl.symbol} @{aapl.purchasePrice} ')"
      ],
      "metadata": {
        "colab": {
          "base_uri": "https://localhost:8080/"
        },
        "id": "xZAl8tmRzF5j",
        "outputId": "86650701-67fd-4c22-e4b9-b85ea23b8f7d"
      },
      "execution_count": 60,
      "outputs": [
        {
          "output_type": "stream",
          "name": "stdout",
          "text": [
            "Bought 100 stock of Apple @175 \n"
          ]
        }
      ]
    },
    {
      "cell_type": "code",
      "source": [
        "meta = Trade('Meta',100,510)"
      ],
      "metadata": {
        "id": "T3dXGV7KzUzB"
      },
      "execution_count": 61,
      "outputs": []
    },
    {
      "cell_type": "code",
      "source": [
        "print(f'Bought {meta.qtyPurchased} stock of {meta.symbol} @{meta.purchasePrice} ')"
      ],
      "metadata": {
        "colab": {
          "base_uri": "https://localhost:8080/"
        },
        "id": "K-kFuN3ZzlJZ",
        "outputId": "a23f7d1d-3afc-4ca2-88db-d19fedaeb987"
      },
      "execution_count": 62,
      "outputs": [
        {
          "output_type": "stream",
          "name": "stdout",
          "text": [
            "Bought 100 stock of Meta @510 \n"
          ]
        }
      ]
    },
    {
      "cell_type": "code",
      "source": [
        "class Trade2:\n",
        "\n",
        "  def __init__(self,name,qty,buyPrice):\n",
        "    self.symbol=name\n",
        "    self.qtyPurchased=qty\n",
        "    self.purchasePrice=buyPrice\n",
        "\n",
        "  def printDisplay(self):\n",
        "    print(f'Bought {self.qtyPurchased} stock of {self.symbol} @{self.purchasePrice}' )"
      ],
      "metadata": {
        "id": "r8yNBH6XzrVZ"
      },
      "execution_count": 75,
      "outputs": []
    },
    {
      "cell_type": "code",
      "source": [
        "nike = Trade2('Nike',100,98)"
      ],
      "metadata": {
        "id": "q_joFAW0z61R"
      },
      "execution_count": 76,
      "outputs": []
    },
    {
      "cell_type": "code",
      "source": [
        "nike.printDisplay()"
      ],
      "metadata": {
        "colab": {
          "base_uri": "https://localhost:8080/"
        },
        "id": "K0rZyaAv0HAQ",
        "outputId": "0762c1f7-7149-4fcb-8dcf-fb99b3cb806b"
      },
      "execution_count": 77,
      "outputs": [
        {
          "output_type": "stream",
          "name": "stdout",
          "text": [
            "Bought 100 stock of Nike @98\n"
          ]
        }
      ]
    },
    {
      "cell_type": "code",
      "source": [
        "class Trade3:\n",
        "\n",
        "  def __init__(self,name,qty,buyPrice):\n",
        "    self.symbol=name\n",
        "    self.qtyPurchased=qty\n",
        "    self.purchasePrice=buyPrice\n",
        "    self.stopLossPrice=self.purchasePrice*90/100\n",
        "    self.profitTakePrice = self.purchasePrice*100/100\n",
        "\n",
        "  def printDisplay(self):\n",
        "    print(f'Bought {self.qtyPurchased} stock of {self.symbol} @{self.purchasePrice}' )\n",
        "    # print(f'Sell if price of {self.symbol} Stock is less than {self.stopLossPrice} OR greater than {self.profitTakePrice}')\n",
        "\n",
        "  def decide(self,currentPrice):\n",
        "    if currentPrice<self.stopLossPrice or currentPrice > self.profitTakePrice:\n",
        "      print(f'{currentPrice} SELL')\n",
        "    else:\n",
        "      print(f'{currentPrice} KEEP')"
      ],
      "metadata": {
        "id": "psWqrIn10JGP"
      },
      "execution_count": 97,
      "outputs": []
    },
    {
      "cell_type": "code",
      "source": [
        "nike = Trade3('Nike',100,98)"
      ],
      "metadata": {
        "id": "UBvjy6QE1PFF"
      },
      "execution_count": 98,
      "outputs": []
    },
    {
      "cell_type": "code",
      "source": [
        "nike.printDisplay()"
      ],
      "metadata": {
        "colab": {
          "base_uri": "https://localhost:8080/"
        },
        "id": "N0l3F6Ss1rvt",
        "outputId": "0e78f270-e567-46f0-d216-c6209bc889ce"
      },
      "execution_count": 99,
      "outputs": [
        {
          "output_type": "stream",
          "name": "stdout",
          "text": [
            "Bought 100 stock of Nike @98\n"
          ]
        }
      ]
    },
    {
      "cell_type": "code",
      "source": [
        "nike.decide(102)"
      ],
      "metadata": {
        "colab": {
          "base_uri": "https://localhost:8080/"
        },
        "id": "4U7uM1NS1SFN",
        "outputId": "9b83deda-8ce9-4b42-b099-f66d2f78ba2c"
      },
      "execution_count": 100,
      "outputs": [
        {
          "output_type": "stream",
          "name": "stdout",
          "text": [
            "102 SELL\n"
          ]
        }
      ]
    },
    {
      "cell_type": "code",
      "source": [],
      "metadata": {
        "id": "jGFQ_oEj1U_c"
      },
      "execution_count": null,
      "outputs": []
    }
  ]
}
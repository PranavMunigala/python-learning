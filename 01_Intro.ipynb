{
  "cells": [
    {
      "cell_type": "markdown",
      "metadata": {
        "colab_type": "text",
        "id": "view-in-github"
      },
      "source": [
        "<a href=\"https://colab.research.google.com/github/laxman225/python-learning/blob/main/01_Intro.ipynb\" target=\"_parent\"><img src=\"https://colab.research.google.com/assets/colab-badge.svg\" alt=\"Open In Colab\"/></a>"
      ]
    },
    {
      "cell_type": "markdown",
      "metadata": {
        "id": "zM4wQyVmeypN"
      },
      "source": [
        "# What is Programming?\n",
        "\n"
      ]
    },
    {
      "cell_type": "markdown",
      "metadata": {
        "id": "qPFEd4ApfCbS"
      },
      "source": [
        "## Let us discus LOGIC for Prime Number and write Instructions\n",
        "\n",
        "\n",
        "1.   List item\n",
        "2.   List item\n",
        "\n"
      ]
    },
    {
      "cell_type": "markdown",
      "metadata": {
        "id": "QP051-3hfeWB"
      },
      "source": [
        "# Python"
      ]
    },
    {
      "cell_type": "markdown",
      "metadata": {
        "id": "k_uZqYIAg0dA"
      },
      "source": [
        "## What & Why"
      ]
    },
    {
      "cell_type": "markdown",
      "metadata": {
        "id": "ju_ABjxpgK4N"
      },
      "source": [
        "## Let us learn some basics"
      ]
    },
    {
      "cell_type": "code",
      "execution_count": 1,
      "metadata": {
        "id": "g0zJ9RI0gjW7"
      },
      "outputs": [],
      "source": [
        "# Types\n",
        "name='Apple'\n",
        "buyPrice=170.5\n",
        "qty=100\n"
      ]
    },
    {
      "cell_type": "code",
      "execution_count": 2,
      "metadata": {
        "colab": {
          "base_uri": "https://localhost:8080/"
        },
        "id": "fQ3J7P1SfFv4",
        "outputId": "beb45c55-5da7-4f36-bf3d-474fa1fc7eaf"
      },
      "outputs": [
        {
          "name": "stdout",
          "output_type": "stream",
          "text": [
            "Apple\n",
            "Bought 100 stock of Apple @170.5 \n"
          ]
        }
      ],
      "source": [
        "print(name)\n",
        "print(f'Bought {qty} stock of {name} @{buyPrice} ')"
      ]
    },
    {
      "cell_type": "code",
      "execution_count": 3,
      "metadata": {
        "colab": {
          "base_uri": "https://localhost:8080/"
        },
        "id": "s-K2EIBSi-Hp",
        "outputId": "ebe1530b-88c1-4b42-eb73-462cd0a01b12"
      },
      "outputs": [
        {
          "name": "stdout",
          "output_type": "stream",
          "text": [
            "Total purchase price 17050.0\n"
          ]
        }
      ],
      "source": [
        "# Operators\n",
        "\n",
        "totalCost = qty * buyPrice\n",
        "\n",
        "print(f'Total purchase price {totalCost}')"
      ]
    },
    {
      "cell_type": "code",
      "execution_count": 4,
      "metadata": {
        "id": "cygnV8F7nFAx"
      },
      "outputs": [],
      "source": [
        "currentPrice=160.25\n"
      ]
    },
    {
      "cell_type": "code",
      "execution_count": 5,
      "metadata": {
        "colab": {
          "base_uri": "https://localhost:8080/"
        },
        "id": "cPBpbyqJjlXn",
        "outputId": "e3503e97-5c87-437f-a90b-0b8445cdba2e"
      },
      "outputs": [
        {
          "name": "stdout",
          "output_type": "stream",
          "text": [
            "Did you make Profit on Apple? - False\n"
          ]
        }
      ],
      "source": [
        "# Condition if/else\n",
        "if(currentPrice>buyPrice):\n",
        "  isProfitMade=True\n",
        "else:\n",
        "  isProfitMade=False\n",
        "\n",
        "print(f'Did you make Profit on Apple? - {isProfitMade}')\n",
        "\n",
        "\n"
      ]
    },
    {
      "cell_type": "code",
      "execution_count": 6,
      "metadata": {
        "colab": {
          "base_uri": "https://localhost:8080/"
        },
        "id": "pcUVO6D4pFwj",
        "outputId": "4ae7843b-950e-4a23-9c00-68900e5a3ab2"
      },
      "outputs": [
        {
          "name": "stdout",
          "output_type": "stream",
          "text": [
            "Monday Price is 160\n",
            "Friday Price is 210\n",
            "Friday Price is 210\n"
          ]
        }
      ],
      "source": [
        "# complex types\n",
        "thisWeekPricesList = [160,165,185,200,210]\n",
        "print(f'Monday Price is {thisWeekPricesList[0]}')\n",
        "print(f'Friday Price is {thisWeekPricesList[4]}')\n",
        "print(f'Friday Price is {thisWeekPricesList[-1]}')"
      ]
    },
    {
      "cell_type": "code",
      "execution_count": 7,
      "metadata": {
        "colab": {
          "base_uri": "https://localhost:8080/"
        },
        "id": "brZQrfKfq2qi",
        "outputId": "ee711e7a-c46e-4820-bf7c-54e17057351b"
      },
      "outputs": [
        {
          "name": "stdout",
          "output_type": "stream",
          "text": [
            "Monday Price is 160\n",
            "Friday Price is 210\n"
          ]
        }
      ],
      "source": [
        "thisWeekPricesDict = {'MON':160,'TUE':165,'WED':185,'THU':200,'FRI':210}\n",
        "\n",
        "print(f\"Monday Price is {thisWeekPricesDict['MON']}\")\n",
        "print(f\"Friday Price is {thisWeekPricesDict['FRI']}\")\n"
      ]
    },
    {
      "cell_type": "code",
      "execution_count": 8,
      "metadata": {
        "colab": {
          "base_uri": "https://localhost:8080/"
        },
        "id": "bs_kI7NFoSR1",
        "outputId": "0d7594a3-4e7d-4551-a748-97fc841ed206"
      },
      "outputs": [
        {
          "name": "stdout",
          "output_type": "stream",
          "text": [
            "Sell if price of Apple Stock is less than 153.45 OR greater than 187.55\n"
          ]
        }
      ],
      "source": [
        "stopLossPrice = buyPrice*90/100\n",
        "profitTakePrice = buyPrice*110/100\n",
        "\n",
        "print(f'Sell if price of Apple Stock is less than {stopLossPrice} OR greater than {profitTakePrice}')"
      ]
    },
    {
      "cell_type": "code",
      "execution_count": 9,
      "metadata": {
        "colab": {
          "base_uri": "https://localhost:8080/"
        },
        "id": "8J0Hf6Ubo3OT",
        "outputId": "6c953c75-17d2-41d3-edc2-5e6b9f1ba87a"
      },
      "outputs": [
        {
          "name": "stdout",
          "output_type": "stream",
          "text": [
            "KEEP\n"
          ]
        }
      ],
      "source": [
        "mondaysPrice=thisWeekPricesDict['MON']\n",
        "if mondaysPrice<stopLossPrice or mondaysPrice > profitTakePrice:\n",
        "  print('SELL')\n",
        "else:\n",
        "  print('KEEP')"
      ]
    },
    {
      "cell_type": "code",
      "execution_count": 10,
      "metadata": {
        "colab": {
          "base_uri": "https://localhost:8080/"
        },
        "id": "DrUWHJ_DsrNV",
        "outputId": "31a293fa-eec3-4d83-d7e0-cfd4ebece15a"
      },
      "outputs": [
        {
          "name": "stdout",
          "output_type": "stream",
          "text": [
            "160 KEEP\n",
            "165 KEEP\n",
            "185 KEEP\n",
            "200 SELL\n",
            "210 SELL\n"
          ]
        }
      ],
      "source": [
        "# Loops\n",
        "for price in thisWeekPricesList:\n",
        "  if price<stopLossPrice or price > profitTakePrice:\n",
        "    print(f'{price} SELL')\n",
        "  else:\n",
        "    print(f'{price} KEEP')"
      ]
    },
    {
      "cell_type": "code",
      "execution_count": 11,
      "metadata": {
        "colab": {
          "base_uri": "https://localhost:8080/"
        },
        "id": "Uypy-YSOtVIQ",
        "outputId": "b1380bd2-c0c7-4535-dac9-bedf2e56d98e"
      },
      "outputs": [
        {
          "name": "stdout",
          "output_type": "stream",
          "text": [
            "160 KEEP\n",
            "165 KEEP\n",
            "185 KEEP\n",
            "200 SELL\n",
            "210 SELL\n"
          ]
        }
      ],
      "source": [
        "for day in thisWeekPricesDict:\n",
        "  if thisWeekPricesDict[day]<stopLossPrice or thisWeekPricesDict[day] > profitTakePrice:\n",
        "    print(f'{thisWeekPricesDict[day]} SELL')\n",
        "  else:\n",
        "    print(f'{thisWeekPricesDict[day]} KEEP')"
      ]
    },
    {
      "cell_type": "code",
      "execution_count": 12,
      "metadata": {
        "colab": {
          "base_uri": "https://localhost:8080/"
        },
        "id": "MbIj-5Wjt9PA",
        "outputId": "c68eb092-5f6e-4661-c7d0-fc6f6a644d69"
      },
      "outputs": [
        {
          "name": "stdout",
          "output_type": "stream",
          "text": [
            "The number of prices 5\n"
          ]
        }
      ],
      "source": [
        "# functions - Takes an inputs and returns an output\n",
        "print(f'The number of prices {len(thisWeekPricesList)}')\n"
      ]
    },
    {
      "cell_type": "code",
      "execution_count": 13,
      "metadata": {
        "id": "1b4zeos0vDP9"
      },
      "outputs": [],
      "source": [
        "def getChangePercent(buyPrice,currentPrice):\n",
        "  return (currentPrice-buyPrice)*100/buyPrice"
      ]
    },
    {
      "cell_type": "code",
      "execution_count": 14,
      "metadata": {
        "colab": {
          "base_uri": "https://localhost:8080/"
        },
        "id": "OQJFom81wTAi",
        "outputId": "ac153f52-9c47-43bb-8f66-1ccac955a2eb"
      },
      "outputs": [
        {
          "data": {
            "text/plain": [
              "17.302052785923753"
            ]
          },
          "execution_count": 14,
          "metadata": {},
          "output_type": "execute_result"
        }
      ],
      "source": [
        "getChangePercent(buyPrice,200)"
      ]
    },
    {
      "cell_type": "code",
      "execution_count": 15,
      "metadata": {
        "colab": {
          "base_uri": "https://localhost:8080/"
        },
        "id": "Mtt2ILYCxYrk",
        "outputId": "a22a5682-cf4c-4999-9667-d8be4a6c434f"
      },
      "outputs": [
        {
          "data": {
            "text/plain": [
              "-3.225806451612903"
            ]
          },
          "execution_count": 15,
          "metadata": {},
          "output_type": "execute_result"
        }
      ],
      "source": [
        "getChangePercent(buyPrice,thisWeekPricesDict['TUE'])"
      ]
    },
    {
      "cell_type": "code",
      "execution_count": 16,
      "metadata": {
        "colab": {
          "base_uri": "https://localhost:8080/"
        },
        "id": "bIABm2Yyxl5-",
        "outputId": "624d2277-6ae7-4a30-bd97-670716e8a29e"
      },
      "outputs": [
        {
          "data": {
            "text/plain": [
              "-3.23"
            ]
          },
          "execution_count": 16,
          "metadata": {},
          "output_type": "execute_result"
        }
      ],
      "source": [
        "round(getChangePercent(buyPrice,thisWeekPricesDict['TUE']),2)"
      ]
    },
    {
      "cell_type": "code",
      "execution_count": 17,
      "metadata": {
        "id": "ntzXsF8KxpqF"
      },
      "outputs": [],
      "source": [
        "# Classes\n",
        "class Trade:\n",
        "\n",
        "  def __init__(self,name,qty,buyPrice):\n",
        "    self.symbol=name\n",
        "    self.qtyPurchased=qty\n",
        "    self.purchasePrice=buyPrice\n"
      ]
    },
    {
      "cell_type": "code",
      "execution_count": 18,
      "metadata": {
        "id": "FuIdbEq4yJHt"
      },
      "outputs": [],
      "source": [
        "aapl = Trade('Apple',100,175)"
      ]
    },
    {
      "cell_type": "code",
      "execution_count": 19,
      "metadata": {
        "colab": {
          "base_uri": "https://localhost:8080/"
        },
        "id": "xZAl8tmRzF5j",
        "outputId": "86650701-67fd-4c22-e4b9-b85ea23b8f7d"
      },
      "outputs": [
        {
          "name": "stdout",
          "output_type": "stream",
          "text": [
            "Bought 100 stock of Apple @175 \n"
          ]
        }
      ],
      "source": [
        "print(f'Bought {aapl.qtyPurchased} stock of {aapl.symbol} @{aapl.purchasePrice} ')"
      ]
    },
    {
      "cell_type": "code",
      "execution_count": 20,
      "metadata": {
        "id": "T3dXGV7KzUzB"
      },
      "outputs": [],
      "source": [
        "meta = Trade('Meta',100,510)"
      ]
    },
    {
      "cell_type": "code",
      "execution_count": 21,
      "metadata": {
        "colab": {
          "base_uri": "https://localhost:8080/"
        },
        "id": "K-kFuN3ZzlJZ",
        "outputId": "a23f7d1d-3afc-4ca2-88db-d19fedaeb987"
      },
      "outputs": [
        {
          "name": "stdout",
          "output_type": "stream",
          "text": [
            "Bought 100 stock of Meta @510 \n"
          ]
        }
      ],
      "source": [
        "print(f'Bought {meta.qtyPurchased} stock of {meta.symbol} @{meta.purchasePrice} ')"
      ]
    },
    {
      "cell_type": "code",
      "execution_count": 22,
      "metadata": {
        "id": "r8yNBH6XzrVZ"
      },
      "outputs": [],
      "source": [
        "class Trade2:\n",
        "\n",
        "  def __init__(self,name,qty,buyPrice):\n",
        "    self.symbol=name\n",
        "    self.qtyPurchased=qty\n",
        "    self.purchasePrice=buyPrice\n",
        "\n",
        "  def printDisplay(self):\n",
        "    print(f'Bought {self.qtyPurchased} stock of {self.symbol} @{self.purchasePrice}' )"
      ]
    },
    {
      "cell_type": "code",
      "execution_count": 23,
      "metadata": {
        "id": "q_joFAW0z61R"
      },
      "outputs": [],
      "source": [
        "nike = Trade2('Nike',100,98)"
      ]
    },
    {
      "cell_type": "code",
      "execution_count": 24,
      "metadata": {
        "colab": {
          "base_uri": "https://localhost:8080/"
        },
        "id": "K0rZyaAv0HAQ",
        "outputId": "0762c1f7-7149-4fcb-8dcf-fb99b3cb806b"
      },
      "outputs": [
        {
          "name": "stdout",
          "output_type": "stream",
          "text": [
            "Bought 100 stock of Nike @98\n"
          ]
        }
      ],
      "source": [
        "nike.printDisplay()"
      ]
    },
    {
      "cell_type": "code",
      "execution_count": 25,
      "metadata": {
        "id": "psWqrIn10JGP"
      },
      "outputs": [],
      "source": [
        "class Trade3:\n",
        "\n",
        "  def __init__(self,name,qty,buyPrice):\n",
        "    self.symbol=name\n",
        "    self.qtyPurchased=qty\n",
        "    self.purchasePrice=buyPrice\n",
        "    self.stopLossPrice=self.purchasePrice*90/100\n",
        "    self.profitTakePrice = self.purchasePrice*100/100\n",
        "\n",
        "  def printDisplay(self):\n",
        "    print(f'Bought {self.qtyPurchased} stock of {self.symbol} @{self.purchasePrice}' )\n",
        "    # print(f'Sell if price of {self.symbol} Stock is less than {self.stopLossPrice} OR greater than {self.profitTakePrice}')\n",
        "\n",
        "  def decide(self,currentPrice):\n",
        "    if currentPrice<self.stopLossPrice or currentPrice > self.profitTakePrice:\n",
        "      print(f'{currentPrice} SELL')\n",
        "    else:\n",
        "      print(f'{currentPrice} KEEP')"
      ]
    },
    {
      "cell_type": "code",
      "execution_count": 26,
      "metadata": {
        "id": "UBvjy6QE1PFF"
      },
      "outputs": [],
      "source": [
        "nike = Trade3('Nike',100,98)"
      ]
    },
    {
      "cell_type": "code",
      "execution_count": 27,
      "metadata": {
        "colab": {
          "base_uri": "https://localhost:8080/"
        },
        "id": "N0l3F6Ss1rvt",
        "outputId": "0e78f270-e567-46f0-d216-c6209bc889ce"
      },
      "outputs": [
        {
          "name": "stdout",
          "output_type": "stream",
          "text": [
            "Bought 100 stock of Nike @98\n"
          ]
        }
      ],
      "source": [
        "nike.printDisplay()"
      ]
    },
    {
      "cell_type": "code",
      "execution_count": 28,
      "metadata": {
        "colab": {
          "base_uri": "https://localhost:8080/"
        },
        "id": "4U7uM1NS1SFN",
        "outputId": "9b83deda-8ce9-4b42-b099-f66d2f78ba2c"
      },
      "outputs": [
        {
          "name": "stdout",
          "output_type": "stream",
          "text": [
            "102 SELL\n"
          ]
        }
      ],
      "source": [
        "nike.decide(102)"
      ]
    },
    {
      "cell_type": "code",
      "execution_count": 30,
      "metadata": {
        "id": "jGFQ_oEj1U_c"
      },
      "outputs": [
        {
          "name": "stdout",
          "output_type": "stream",
          "text": [
            "Bought 100 stock of Netflix @610\n",
            "500 SELL\n"
          ]
        }
      ],
      "source": [
        "netflix = Trade3('Netflix',100,610)\n",
        "netflix.printDisplay()\n",
        "netflix.decide(500)"
      ]
    },
    {
      "cell_type": "code",
      "execution_count": null,
      "metadata": {},
      "outputs": [],
      "source": []
    },
    {
      "cell_type": "code",
      "execution_count": null,
      "metadata": {},
      "outputs": [],
      "source": []
    },
    {
      "cell_type": "code",
      "execution_count": null,
      "metadata": {},
      "outputs": [],
      "source": []
    },
    {
      "cell_type": "code",
      "execution_count": null,
      "metadata": {},
      "outputs": [],
      "source": []
    }
  ],
  "metadata": {
    "colab": {
      "authorship_tag": "ABX9TyPOezEoBBaFaiM3Zz5zDlEs",
      "include_colab_link": true,
      "provenance": []
    },
    "kernelspec": {
      "display_name": "Python 3",
      "name": "python3"
    },
    "language_info": {
      "codemirror_mode": {
        "name": "ipython",
        "version": 3
      },
      "file_extension": ".py",
      "mimetype": "text/x-python",
      "name": "python",
      "nbconvert_exporter": "python",
      "pygments_lexer": "ipython3",
      "version": "3.8.10"
    }
  },
  "nbformat": 4,
  "nbformat_minor": 0
}

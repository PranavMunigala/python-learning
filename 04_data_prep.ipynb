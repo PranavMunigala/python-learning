{
 "cells": [
  {
   "cell_type": "code",
   "execution_count": 1,
   "metadata": {},
   "outputs": [
    {
     "name": "stdout",
     "output_type": "stream",
     "text": [
      "Hello World!\n"
     ]
    }
   ],
   "source": [
    "print(\"Hello World!\")"
   ]
  },
  {
   "cell_type": "code",
   "execution_count": 2,
   "metadata": {},
   "outputs": [],
   "source": [
    "# !pip install SQLAlchemy\n",
    "# !pip install ipython-sql\n"
   ]
  },
  {
   "cell_type": "code",
   "execution_count": 3,
   "metadata": {},
   "outputs": [],
   "source": [
    "# !pip install --upgrade pandas"
   ]
  },
  {
   "cell_type": "code",
   "execution_count": 4,
   "metadata": {},
   "outputs": [],
   "source": [
    "import pandas as pd\n",
    "import sqlite3,sqlalchemy\n",
    "from typing import Optional,List\n",
    "from sqlalchemy import ForeignKey,UniqueConstraint\n",
    "from sqlalchemy import Integer, Float, DateTime,Boolean\n",
    "from sqlalchemy import String\n",
    "from sqlalchemy.orm import Mapped\n",
    "from sqlalchemy.orm import mapped_column\n",
    "from sqlalchemy.orm import DeclarativeBase\n",
    "from sqlalchemy.orm import relationship\n"
   ]
  },
  {
   "cell_type": "code",
   "execution_count": 5,
   "metadata": {},
   "outputs": [
    {
     "data": {
      "text/plain": [
       "('2.0.3', '3.36.0', '2.0.29')"
      ]
     },
     "execution_count": 5,
     "metadata": {},
     "output_type": "execute_result"
    }
   ],
   "source": [
    "pd.__version__, sqlite3.sqlite_version,sqlalchemy.__version__"
   ]
  },
  {
   "cell_type": "code",
   "execution_count": 6,
   "metadata": {},
   "outputs": [],
   "source": [
    "%load_ext sql"
   ]
  },
  {
   "cell_type": "code",
   "execution_count": 7,
   "metadata": {},
   "outputs": [],
   "source": [
    "\n",
    "class Base(DeclarativeBase):\n",
    "    pass\n",
    "\n",
    "    \n",
    "class TeamDTO(Base):\n",
    "    __tablename__ = 'teams'\n",
    "    # prim_id:Mapped[int] = mapped_column(primary_key=True)\n",
    "    id: Mapped[Optional[int]] = mapped_column(primary_key=True)\n",
    "    name: Mapped[Optional[str]]\n",
    "    abbreviation: Mapped[Optional[str]]\n",
    "    nickname: Mapped[Optional[str]]\n",
    "    city: Mapped[Optional[str]]\n",
    "    state: Mapped[Optional[str]]\n",
    "    year_founded: Mapped[Optional[int]]\n",
    "\n",
    "class PlayerDTO(Base):\n",
    "    __tablename__ = 'players'\n",
    "    # prim_id:Mapped[int] = mapped_column(Integer, primary_key=True)\n",
    "    id: Mapped[Optional[int]] = mapped_column(primary_key=True)\n",
    "    full_name: Mapped[Optional[str]]\n",
    "    first_name: Mapped[Optional[str]]\n",
    "    last_name: Mapped[Optional[str]]\n",
    "    is_active: Mapped[Optional[bool]]\n",
    "\n",
    "    \n",
    "class PlayerCareerStatsDTO(Base):\n",
    "    __tablename__ = 'player_career_stats'\n",
    "    # prim_id:Mapped[int] = mapped_column(Integer, primary_key=True)\n",
    "    id:Mapped[int] = mapped_column(Integer, primary_key=True)\n",
    "    teamid:Mapped[int] = mapped_column(Integer, primary_key=True)\n",
    "    team: Mapped[Optional[str]]\n",
    "    season: Mapped[str] = mapped_column(String, primary_key=True)\n",
    "    age: Mapped[Optional[float]]\n",
    "    pts: Mapped[Optional[int]]"
   ]
  },
  {
   "cell_type": "code",
   "execution_count": 8,
   "metadata": {},
   "outputs": [],
   "source": [
    "from sqlalchemy import create_engine\n",
    "engine = create_engine(\"sqlite:///nbabasketballdb.sqlite3\", echo=True)"
   ]
  },
  {
   "cell_type": "code",
   "execution_count": 9,
   "metadata": {},
   "outputs": [
    {
     "name": "stdout",
     "output_type": "stream",
     "text": [
      "2024-03-25 08:09:36,505 INFO sqlalchemy.engine.Engine BEGIN (implicit)\n",
      "2024-03-25 08:09:36,505 INFO sqlalchemy.engine.Engine PRAGMA main.table_info(\"teams\")\n",
      "2024-03-25 08:09:36,505 INFO sqlalchemy.engine.Engine [raw sql] ()\n",
      "2024-03-25 08:09:36,505 INFO sqlalchemy.engine.Engine PRAGMA temp.table_info(\"teams\")\n",
      "2024-03-25 08:09:36,505 INFO sqlalchemy.engine.Engine [raw sql] ()\n",
      "2024-03-25 08:09:36,513 INFO sqlalchemy.engine.Engine PRAGMA main.table_info(\"players\")\n",
      "2024-03-25 08:09:36,513 INFO sqlalchemy.engine.Engine [raw sql] ()\n",
      "2024-03-25 08:09:36,513 INFO sqlalchemy.engine.Engine PRAGMA temp.table_info(\"players\")\n",
      "2024-03-25 08:09:36,513 INFO sqlalchemy.engine.Engine [raw sql] ()\n",
      "2024-03-25 08:09:36,513 INFO sqlalchemy.engine.Engine PRAGMA main.table_info(\"player_career_stats\")\n",
      "2024-03-25 08:09:36,513 INFO sqlalchemy.engine.Engine [raw sql] ()\n",
      "2024-03-25 08:09:36,522 INFO sqlalchemy.engine.Engine PRAGMA temp.table_info(\"player_career_stats\")\n",
      "2024-03-25 08:09:36,522 INFO sqlalchemy.engine.Engine [raw sql] ()\n",
      "2024-03-25 08:09:36,522 INFO sqlalchemy.engine.Engine \n",
      "CREATE TABLE teams (\n",
      "\tid INTEGER, \n",
      "\tname VARCHAR, \n",
      "\tabbreviation VARCHAR, \n",
      "\tnickname VARCHAR, \n",
      "\tcity VARCHAR, \n",
      "\tstate VARCHAR, \n",
      "\tyear_founded INTEGER, \n",
      "\tPRIMARY KEY (id)\n",
      ")\n",
      "\n",
      "\n",
      "2024-03-25 08:09:36,522 INFO sqlalchemy.engine.Engine [no key 0.00105s] ()\n",
      "2024-03-25 08:09:36,539 INFO sqlalchemy.engine.Engine \n",
      "CREATE TABLE players (\n",
      "\tid INTEGER, \n",
      "\tfull_name VARCHAR, \n",
      "\tfirst_name VARCHAR, \n",
      "\tlast_name VARCHAR, \n",
      "\tis_active BOOLEAN, \n",
      "\tPRIMARY KEY (id)\n",
      ")\n",
      "\n",
      "\n",
      "2024-03-25 08:09:36,539 INFO sqlalchemy.engine.Engine [no key 0.00159s] ()\n",
      "2024-03-25 08:09:36,547 INFO sqlalchemy.engine.Engine \n",
      "CREATE TABLE player_career_stats (\n",
      "\tid INTEGER NOT NULL, \n",
      "\tteamid INTEGER NOT NULL, \n",
      "\tteam VARCHAR, \n",
      "\tseason VARCHAR NOT NULL, \n",
      "\tage FLOAT, \n",
      "\tpts INTEGER, \n",
      "\tPRIMARY KEY (id, teamid, season)\n",
      ")\n",
      "\n",
      "\n",
      "2024-03-25 08:09:36,547 INFO sqlalchemy.engine.Engine [no key 0.00086s] ()\n",
      "2024-03-25 08:09:36,565 INFO sqlalchemy.engine.Engine COMMIT\n"
     ]
    }
   ],
   "source": [
    "Base.metadata.create_all(engine)"
   ]
  },
  {
   "cell_type": "code",
   "execution_count": 10,
   "metadata": {},
   "outputs": [],
   "source": [
    "\n",
    "%sql sqlite:///nbabasketballdb.sqlite3"
   ]
  },
  {
   "cell_type": "code",
   "execution_count": 11,
   "metadata": {},
   "outputs": [
    {
     "name": "stdout",
     "output_type": "stream",
     "text": [
      " * sqlite:///nbabasketballdb.sqlite3\n",
      "Done.\n"
     ]
    },
    {
     "data": {
      "text/html": [
       "<table>\n",
       "    <thead>\n",
       "        <tr>\n",
       "            <th>id</th>\n",
       "            <th>teamid</th>\n",
       "            <th>team</th>\n",
       "            <th>season</th>\n",
       "            <th>age</th>\n",
       "            <th>pts</th>\n",
       "        </tr>\n",
       "    </thead>\n",
       "    <tbody>\n",
       "    </tbody>\n",
       "</table>"
      ],
      "text/plain": [
       "[]"
      ]
     },
     "execution_count": 11,
     "metadata": {},
     "output_type": "execute_result"
    }
   ],
   "source": [
    "%%sql\n",
    "select * from player_career_stats limit 10\n"
   ]
  },
  {
   "cell_type": "code",
   "execution_count": 12,
   "metadata": {},
   "outputs": [
    {
     "name": "stdout",
     "output_type": "stream",
     "text": [
      " * sqlite:///nbabasketballdb.sqlite3\n",
      "Done.\n"
     ]
    },
    {
     "data": {
      "text/html": [
       "<table>\n",
       "    <thead>\n",
       "        <tr>\n",
       "            <th>id</th>\n",
       "            <th>name</th>\n",
       "            <th>abbreviation</th>\n",
       "            <th>nickname</th>\n",
       "            <th>city</th>\n",
       "            <th>state</th>\n",
       "            <th>year_founded</th>\n",
       "        </tr>\n",
       "    </thead>\n",
       "    <tbody>\n",
       "    </tbody>\n",
       "</table>"
      ],
      "text/plain": [
       "[]"
      ]
     },
     "execution_count": 12,
     "metadata": {},
     "output_type": "execute_result"
    }
   ],
   "source": [
    "%%sql\n",
    "select * from teams\n"
   ]
  },
  {
   "cell_type": "code",
   "execution_count": 13,
   "metadata": {},
   "outputs": [
    {
     "name": "stdout",
     "output_type": "stream",
     "text": [
      " * sqlite:///nbabasketballdb.sqlite3\n",
      "Done.\n"
     ]
    },
    {
     "data": {
      "text/html": [
       "<table>\n",
       "    <thead>\n",
       "        <tr>\n",
       "            <th>id</th>\n",
       "            <th>full_name</th>\n",
       "            <th>first_name</th>\n",
       "            <th>last_name</th>\n",
       "            <th>is_active</th>\n",
       "        </tr>\n",
       "    </thead>\n",
       "    <tbody>\n",
       "    </tbody>\n",
       "</table>"
      ],
      "text/plain": [
       "[]"
      ]
     },
     "execution_count": 13,
     "metadata": {},
     "output_type": "execute_result"
    }
   ],
   "source": [
    "%%sql\n",
    "select * from players limit 10\n"
   ]
  },
  {
   "cell_type": "code",
   "execution_count": 14,
   "metadata": {},
   "outputs": [
    {
     "name": "stdout",
     "output_type": "stream",
     "text": [
      "2024-03-25 08:09:36,714 INFO sqlalchemy.engine.Engine BEGIN (implicit)\n",
      "2024-03-25 08:09:36,721 INFO sqlalchemy.engine.Engine PRAGMA main.table_info(\"teams\")\n",
      "2024-03-25 08:09:36,722 INFO sqlalchemy.engine.Engine [raw sql] ()\n",
      "2024-03-25 08:09:36,722 INFO sqlalchemy.engine.Engine INSERT INTO teams (id, name, abbreviation, nickname, city, state, year_founded) VALUES (?, ?, ?, ?, ?, ?, ?)\n",
      "2024-03-25 08:09:36,730 INFO sqlalchemy.engine.Engine [generated in 0.00381s] [(1610612737, 'Atlanta Hawks', 'ATL', 'Hawks', 'Atlanta', 'Georgia', 1949), (1610612738, 'Boston Celtics', 'BOS', 'Celtics', 'Boston', 'Massachusetts', 1946), (1610612739, 'Cleveland Cavaliers', 'CLE', 'Cavaliers', 'Cleveland', 'Ohio', 1970), (1610612740, 'New Orleans Pelicans', 'NOP', 'Pelicans', 'New Orleans', 'Louisiana', 2002), (1610612741, 'Chicago Bulls', 'CHI', 'Bulls', 'Chicago', 'Illinois', 1966), (1610612742, 'Dallas Mavericks', 'DAL', 'Mavericks', 'Dallas', 'Texas', 1980), (1610612743, 'Denver Nuggets', 'DEN', 'Nuggets', 'Denver', 'Colorado', 1976), (1610612744, 'Golden State Warriors', 'GSW', 'Warriors', 'Golden State', 'California', 1946)  ... displaying 10 of 30 total bound parameter sets ...  (1610612765, 'Detroit Pistons', 'DET', 'Pistons', 'Detroit', 'Michigan', 1948), (1610612766, 'Charlotte Hornets', 'CHA', 'Hornets', 'Charlotte', 'North Carolina', 1988)]\n",
      "2024-03-25 08:09:36,730 INFO sqlalchemy.engine.Engine COMMIT\n",
      "2024-03-25 08:09:36,755 INFO sqlalchemy.engine.Engine BEGIN (implicit)\n",
      "2024-03-25 08:09:36,763 INFO sqlalchemy.engine.Engine PRAGMA main.table_info(\"players\")\n",
      "2024-03-25 08:09:36,763 INFO sqlalchemy.engine.Engine [raw sql] ()\n",
      "2024-03-25 08:09:36,831 INFO sqlalchemy.engine.Engine INSERT INTO players (id, full_name, first_name, last_name, is_active) VALUES (?, ?, ?, ?, ?)\n",
      "2024-03-25 08:09:36,833 INFO sqlalchemy.engine.Engine [generated in 0.05091s] [(76001, 'Alaa Abdelnaby', 'Alaa', 'Abdelnaby', 0), (76002, 'Zaid Abdul-Aziz', 'Zaid', 'Abdul-Aziz', 0), (76003, 'Kareem Abdul-Jabbar', 'Kareem', 'Abdul-Jabbar', 0), (51, 'Mahmoud Abdul-Rauf', 'Mahmoud', 'Abdul-Rauf', 0), (1505, 'Tariq Abdul-Wahad', 'Tariq', 'Abdul-Wahad', 0), (949, 'Shareef Abdur-Rahim', 'Shareef', 'Abdur-Rahim', 0), (76005, 'Tom Abernethy', 'Tom', 'Abernethy', 0), (76006, 'Forest Able', 'Forest', 'Able', 0)  ... displaying 10 of 4900 total bound parameter sets ...  (1627826, 'Ivica Zubac', 'Ivica', 'Zubac', 1), (78650, 'Matt Zunic', 'Matt', 'Zunic', 0)]\n",
      "2024-03-25 08:09:36,860 INFO sqlalchemy.engine.Engine COMMIT\n",
      "2024-03-25 08:09:36,876 INFO sqlalchemy.engine.Engine BEGIN (implicit)\n",
      "2024-03-25 08:09:36,879 INFO sqlalchemy.engine.Engine PRAGMA main.table_info(\"player_career_stats\")\n",
      "2024-03-25 08:09:36,880 INFO sqlalchemy.engine.Engine [raw sql] ()\n",
      "2024-03-25 08:09:36,884 INFO sqlalchemy.engine.Engine INSERT INTO player_career_stats (id, teamid, team, season, age, pts) VALUES (?, ?, ?, ?, ?, ?)\n",
      "2024-03-25 08:09:36,884 INFO sqlalchemy.engine.Engine [generated in 0.00111s] [(2544, 1610612739, 'CLE', '2003-04', 19.0, 1654), (2544, 1610612739, 'CLE', '2004-05', 20.0, 2175), (2544, 1610612739, 'CLE', '2005-06', 21.0, 2478), (2544, 1610612739, 'CLE', '2006-07', 22.0, 2132), (2544, 1610612739, 'CLE', '2007-08', 23.0, 2250), (2544, 1610612739, 'CLE', '2008-09', 24.0, 2304), (2544, 1610612739, 'CLE', '2009-10', 25.0, 2258), (2544, 1610612748, 'MIA', '2010-11', 26.0, 2111)  ... displaying 10 of 62 total bound parameter sets ...  (1628973, 1610612752, 'NYK', '2022-23', 26.0, 1633), (1628973, 1610612752, 'NYK', '2023-24', 27.0, 1780)]\n",
      "2024-03-25 08:09:36,888 INFO sqlalchemy.engine.Engine COMMIT\n"
     ]
    },
    {
     "data": {
      "text/plain": [
       "62"
      ]
     },
     "execution_count": 14,
     "metadata": {},
     "output_type": "execute_result"
    }
   ],
   "source": [
    "# teamsdf = pd.read_csv('nbateams.csv')\n",
    "# teamsdf.to_sql('teams', engine,if_exists='append',index=False)\n",
    "\n",
    "# playersdf = pd.read_csv('nbaplayers.csv')\n",
    "# playersdf.to_sql('players', engine,if_exists='append',index=False)\n",
    "\n",
    "# playercareerdf = pd.read_csv('nbaplayerstats.csv')\n",
    "# playercareerdf.to_sql('player_career_stats', engine,if_exists='append',index=False)\n"
   ]
  },
  {
   "cell_type": "code",
   "execution_count": 47,
   "metadata": {},
   "outputs": [
    {
     "data": {
      "text/html": [
       "<div>\n",
       "<style scoped>\n",
       "    .dataframe tbody tr th:only-of-type {\n",
       "        vertical-align: middle;\n",
       "    }\n",
       "\n",
       "    .dataframe tbody tr th {\n",
       "        vertical-align: top;\n",
       "    }\n",
       "\n",
       "    .dataframe thead th {\n",
       "        text-align: right;\n",
       "    }\n",
       "</style>\n",
       "<table border=\"1\" class=\"dataframe\">\n",
       "  <thead>\n",
       "    <tr style=\"text-align: right;\">\n",
       "      <th></th>\n",
       "      <th>id</th>\n",
       "      <th>full_name</th>\n",
       "      <th>first_name</th>\n",
       "      <th>last_name</th>\n",
       "      <th>is_active</th>\n",
       "    </tr>\n",
       "  </thead>\n",
       "  <tbody>\n",
       "    <tr>\n",
       "      <th>0</th>\n",
       "      <td>999001</td>\n",
       "      <td>Pranav Munigala</td>\n",
       "      <td>Pranav</td>\n",
       "      <td>Munigala</td>\n",
       "      <td>True</td>\n",
       "    </tr>\n",
       "  </tbody>\n",
       "</table>\n",
       "</div>"
      ],
      "text/plain": [
       "       id        full_name first_name last_name  is_active\n",
       "0  999001  Pranav Munigala     Pranav  Munigala       True"
      ]
     },
     "execution_count": 47,
     "metadata": {},
     "output_type": "execute_result"
    }
   ],
   "source": []
  },
  {
   "cell_type": "code",
   "execution_count": 42,
   "metadata": {},
   "outputs": [
    {
     "name": "stdout",
     "output_type": "stream",
     "text": [
      " * sqlite:///nbabasketballdb.sqlite3\n",
      "Done.\n"
     ]
    },
    {
     "data": {
      "text/html": [
       "<table>\n",
       "    <thead>\n",
       "        <tr>\n",
       "            <th>totpts</th>\n",
       "            <th>totseasons</th>\n",
       "            <th>id</th>\n",
       "            <th>team</th>\n",
       "            <th>avgpoints_per_season</th>\n",
       "        </tr>\n",
       "    </thead>\n",
       "    <tbody>\n",
       "        <tr>\n",
       "            <td>29277</td>\n",
       "            <td>13</td>\n",
       "            <td>893</td>\n",
       "            <td>CHI</td>\n",
       "            <td>2252</td>\n",
       "        </tr>\n",
       "        <tr>\n",
       "            <td>3015</td>\n",
       "            <td>2</td>\n",
       "            <td>893</td>\n",
       "            <td>WAS</td>\n",
       "            <td>1507</td>\n",
       "        </tr>\n",
       "        <tr>\n",
       "            <td>33643</td>\n",
       "            <td>20</td>\n",
       "            <td>977</td>\n",
       "            <td>LAL</td>\n",
       "            <td>1682</td>\n",
       "        </tr>\n",
       "        <tr>\n",
       "            <td>23119</td>\n",
       "            <td>11</td>\n",
       "            <td>2544</td>\n",
       "            <td>CLE</td>\n",
       "            <td>2101</td>\n",
       "        </tr>\n",
       "        <tr>\n",
       "            <td>9187</td>\n",
       "            <td>6</td>\n",
       "            <td>2544</td>\n",
       "            <td>LAL</td>\n",
       "            <td>1531</td>\n",
       "        </tr>\n",
       "        <tr>\n",
       "            <td>7919</td>\n",
       "            <td>4</td>\n",
       "            <td>2544</td>\n",
       "            <td>MIA</td>\n",
       "            <td>1979</td>\n",
       "        </tr>\n",
       "        <tr>\n",
       "            <td>3286</td>\n",
       "            <td>4</td>\n",
       "            <td>1628973</td>\n",
       "            <td>DAL</td>\n",
       "            <td>821</td>\n",
       "        </tr>\n",
       "        <tr>\n",
       "            <td>3413</td>\n",
       "            <td>2</td>\n",
       "            <td>1628973</td>\n",
       "            <td>NYK</td>\n",
       "            <td>1706</td>\n",
       "        </tr>\n",
       "    </tbody>\n",
       "</table>"
      ],
      "text/plain": [
       "[(29277, 13, 893, 'CHI', 2252),\n",
       " (3015, 2, 893, 'WAS', 1507),\n",
       " (33643, 20, 977, 'LAL', 1682),\n",
       " (23119, 11, 2544, 'CLE', 2101),\n",
       " (9187, 6, 2544, 'LAL', 1531),\n",
       " (7919, 4, 2544, 'MIA', 1979),\n",
       " (3286, 4, 1628973, 'DAL', 821),\n",
       " (3413, 2, 1628973, 'NYK', 1706)]"
      ]
     },
     "execution_count": 42,
     "metadata": {},
     "output_type": "execute_result"
    }
   ],
   "source": [
    "# %sql select count(*) from player_career_stats\n",
    "# %sql select count(*) from teams\n",
    "# %sql select count(*) from players\n",
    "# %sql select * from players where full_name = 'LeBron James'\n",
    "# %sql select * from teams where abbreviation = 'LAL'\n",
    "# %sql select * from player_career_stats where id = 2544\n",
    "# %sql select * from player_career_stats where id in (select id from players where full_name = 'LeBron James')\n",
    "# %sql select count(*),team,id from player_career_stats group by id ,team\n",
    "# %sql select * from player_career_stats where team='LAL'\n",
    "%sql select sum(pts) totpts,count(*) totseasons,id,team,sum(pts)/count(*) avgpoints_per_season from player_career_stats group by id ,team\n"
   ]
  },
  {
   "cell_type": "code",
   "execution_count": 55,
   "metadata": {},
   "outputs": [],
   "source": [
    "mhteam = pd.DataFrame([[999999999,'Morris Hills High School','MHI','Knights','Randolph','NJ',1989]],columns=['id', 'name', 'abbreviation', 'nickname', 'city', 'state', 'year_founded'])\n",
    "mhplayers = pd.DataFrame([\n",
    "        [999001,'Pranav Munigala','Pranav','Munigala',True],\n",
    "        [999002,'Eeshan Bhansali','Eeshan','Bhansali',True],\n",
    "        [999003,'Siddhant Bhansali','Siddhant','Bhansali',True],\n",
    "        [999004,'Raj Shah','Raj','Shah',True]\n",
    "\n",
    "    ],\n",
    "    columns=['id','full_name','first_name','last_name','is_active'])"
   ]
  },
  {
   "cell_type": "code",
   "execution_count": 56,
   "metadata": {},
   "outputs": [
    {
     "name": "stdout",
     "output_type": "stream",
     "text": [
      "2024-03-25 11:22:07,189 INFO sqlalchemy.engine.Engine BEGIN (implicit)\n",
      "2024-03-25 11:22:07,191 INFO sqlalchemy.engine.Engine PRAGMA main.table_info(\"players\")\n",
      "2024-03-25 11:22:07,193 INFO sqlalchemy.engine.Engine [raw sql] ()\n",
      "2024-03-25 11:22:07,196 INFO sqlalchemy.engine.Engine INSERT INTO players (id, full_name, first_name, last_name, is_active) VALUES (?, ?, ?, ?, ?)\n",
      "2024-03-25 11:22:07,196 INFO sqlalchemy.engine.Engine [generated in 0.00140s] [(999002, 'Eeshan Bhansali', 'Eeshan', 'Bhansali', 1), (999003, 'Siddhant Bhansali', 'Siddhant', 'Bhansali', 1), (999004, 'Raj Shah', 'Raj', 'Shah', 1)]\n",
      "2024-03-25 11:22:07,201 INFO sqlalchemy.engine.Engine COMMIT\n"
     ]
    },
    {
     "data": {
      "text/plain": [
       "3"
      ]
     },
     "execution_count": 56,
     "metadata": {},
     "output_type": "execute_result"
    }
   ],
   "source": [
    "# mhteam.to_sql('teams', engine,if_exists='append',index=False)\n",
    "# mhplayers.to_sql('players', engine,if_exists='append',index=False)"
   ]
  },
  {
   "cell_type": "code",
   "execution_count": 62,
   "metadata": {},
   "outputs": [
    {
     "name": "stdout",
     "output_type": "stream",
     "text": [
      " * sqlite:///nbabasketballdb.sqlite3\n",
      "Done.\n"
     ]
    },
    {
     "data": {
      "text/html": [
       "<table>\n",
       "    <thead>\n",
       "        <tr>\n",
       "            <th>id</th>\n",
       "            <th>full_name</th>\n",
       "            <th>first_name</th>\n",
       "            <th>last_name</th>\n",
       "            <th>is_active</th>\n",
       "        </tr>\n",
       "    </thead>\n",
       "    <tbody>\n",
       "        <tr>\n",
       "            <td>999001</td>\n",
       "            <td>Pranav Munigala</td>\n",
       "            <td>Pranav</td>\n",
       "            <td>Munigala</td>\n",
       "            <td>1</td>\n",
       "        </tr>\n",
       "        <tr>\n",
       "            <td>999002</td>\n",
       "            <td>Eeshan Bhansali</td>\n",
       "            <td>Eeshan</td>\n",
       "            <td>Bhansali</td>\n",
       "            <td>1</td>\n",
       "        </tr>\n",
       "        <tr>\n",
       "            <td>999003</td>\n",
       "            <td>Siddhant Bhansali</td>\n",
       "            <td>Siddhant</td>\n",
       "            <td>Bhansali</td>\n",
       "            <td>1</td>\n",
       "        </tr>\n",
       "        <tr>\n",
       "            <td>999004</td>\n",
       "            <td>Raj Shah</td>\n",
       "            <td>Raj</td>\n",
       "            <td>Shah</td>\n",
       "            <td>1</td>\n",
       "        </tr>\n",
       "    </tbody>\n",
       "</table>"
      ],
      "text/plain": [
       "[(999001, 'Pranav Munigala', 'Pranav', 'Munigala', 1),\n",
       " (999002, 'Eeshan Bhansali', 'Eeshan', 'Bhansali', 1),\n",
       " (999003, 'Siddhant Bhansali', 'Siddhant', 'Bhansali', 1),\n",
       " (999004, 'Raj Shah', 'Raj', 'Shah', 1)]"
      ]
     },
     "execution_count": 62,
     "metadata": {},
     "output_type": "execute_result"
    }
   ],
   "source": [
    "%sql select * from players where id >= 999001 limit 4\n",
    "# %sql select * from teams where id = 999999999"
   ]
  }
 ],
 "metadata": {
  "kernelspec": {
   "display_name": "hw2",
   "language": "python",
   "name": "python3"
  },
  "language_info": {
   "codemirror_mode": {
    "name": "ipython",
    "version": 3
   },
   "file_extension": ".py",
   "mimetype": "text/x-python",
   "name": "python",
   "nbconvert_exporter": "python",
   "pygments_lexer": "ipython3",
   "version": "3.8.10"
  }
 },
 "nbformat": 4,
 "nbformat_minor": 2
}
